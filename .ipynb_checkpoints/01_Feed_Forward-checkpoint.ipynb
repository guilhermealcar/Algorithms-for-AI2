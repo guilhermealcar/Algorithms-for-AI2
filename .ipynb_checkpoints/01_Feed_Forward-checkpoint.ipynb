{
 "cells": [
  {
   "cell_type": "markdown",
   "metadata": {},
   "source": [
    "# Feed Forward"
   ]
  },
  {
   "cell_type": "raw",
   "metadata": {},
   "source": [
    "ATTENTION:\n",
    "\n",
    "All submissions must be uploaded as .ipynb notebooks (Jupyter Notebook), unless specifically stated otherwise.\n",
    "Other file extensions are not allowed and ignored for submission 'grading'."
   ]
  },
  {
   "cell_type": "markdown",
   "metadata": {},
   "source": [
    "Install [Anaconda](https://www.anaconda.com/products/distribution)\n",
    "\n",
    "Make sure that Python 3.9 is installed.\n",
    "\n",
    "Install the following packages:\n",
    "- numpy"
   ]
  },
  {
   "cell_type": "markdown",
   "metadata": {},
   "source": [
    "## Numpy matrix basics"
   ]
  },
  {
   "cell_type": "code",
   "execution_count": null,
   "metadata": {},
   "outputs": [],
   "source": [
    "import numpy as np\n",
    "\n",
    "# Initialize a numpy array of size (12, 4) and name it 'test'\n",
    "# The values of the initalized array are to be created from a random normal distribution\n",
    "\n",
    "# Code here (one line)\n",
    "\n",
    "\n",
    "# Transpose the matrix 'test' and override the initial matrix\n",
    "\n",
    "# Code here (one line)\n",
    "\n",
    "\n",
    "# Create a new numpy array of size (4, 3) and name it 'test_2' (initialized with a random uniform distribution with a low value of 0.1 and a high value of 0.9)\n",
    "# Multiply (matrix multiplication) the matrix 'test' with the matrix 'test_2' respectively, and name the resulting matrix 'result'\n",
    "\n",
    "# Code here\n",
    "\n",
    "\n",
    "# Print the size (shape) of your 'result' matrix\n",
    "\n",
    "\n",
    "# Slice the matrix 'result' so that\n",
    " # 1: the first until the fifth index of the first dimension and the last index of the second dimension are used (result matrix shape == (5, ))\n",
    " # 2: the last index of the first dimension and all indices of the second dimension are used (result matrix shape == (3,))\n",
    " # 3: every second index of the first dimension (starting from index 1 - NOT 0) and the first index of the second dimension are used (result matrix shape == (6,))\n",
    "\n",
    "# Code here\n",
    "\n",
    "\n",
    "# Find the maximum of the matrix 'result' in every dimension, so that the size of the first dimension stays the same and the second dimension is of size 1 (result matrix shape == (12,))\n",
    "# Use a numpy pre-implemented function for it and name the resulting matrix 'max_result'\n",
    "\n",
    "# Code here\n",
    "\n",
    "\n",
    "# Find the dimensional information where the max values are positioned in the 'result' matrix with a numpy function. Name the result matrix 'max_result_2'\n",
    "# Use the dimensional information and slice the 'result' matrix by this information (neatly in a one-liner)\n",
    "\n",
    "# Code here\n",
    "\n",
    "\n",
    "# Compare max_result and max_result_2. Are they the same?\n",
    "# The comparison between the two matrix should either be True or False (not an array of True of False values)\n",
    "\n",
    "# Code here\n"
   ]
  },
  {
   "cell_type": "markdown",
   "metadata": {},
   "source": [
    "## Lets start with the Feed forward pass"
   ]
  },
  {
   "cell_type": "code",
   "execution_count": null,
   "metadata": {},
   "outputs": [],
   "source": [
    "# Implement the forward pass of the following neural network structure\n",
    "# The arrows show only in the forward direction (we discuss backprogation later)\n",
    "# More instructions below the image\n",
    "\n",
    "from IPython.display import Image\n",
    "Image(filename='feed_forward.png')"
   ]
  },
  {
   "cell_type": "code",
   "execution_count": null,
   "metadata": {},
   "outputs": [],
   "source": [
    "# All the following initializations are to be created with a random normal distribution\n",
    "\n",
    "# Initialize the layers and name them w_0, w_1 and w_2\n",
    "# w_0 is connected to the input (left side), w_1 is the middle part of the network and w_2 is connected to the output (right side)\n",
    "# The layers are no vectors! The layers represent an input dimension and output dimension and are therefore matrices!\n",
    "\n",
    "# Code here\n",
    "\n",
    "\n",
    "\n",
    "# Use the vector _input as the network's input\n",
    "_input = np.random.randn(2)"
   ]
  },
  {
   "cell_type": "code",
   "execution_count": null,
   "metadata": {},
   "outputs": [],
   "source": [
    "# Perform the matrix multiplications to get the output (print the output)\n",
    "\n",
    "# Code here\n"
   ]
  },
  {
   "cell_type": "code",
   "execution_count": null,
   "metadata": {},
   "outputs": [],
   "source": [
    "# Set all weight except one path to zero and compare the result of the output to your own (path) calculations.\n",
    "# A path is defined here as one input to output connection by passing only one node per layer.\n",
    "# Is the result correct?\n",
    "\n",
    "# Code here\n"
   ]
  }
 ],
 "metadata": {
  "kernelspec": {
   "display_name": "Python 3 (ipykernel)",
   "language": "python",
   "name": "python3"
  },
  "language_info": {
   "codemirror_mode": {
    "name": "ipython",
    "version": 3
   },
   "file_extension": ".py",
   "mimetype": "text/x-python",
   "name": "python",
   "nbconvert_exporter": "python",
   "pygments_lexer": "ipython3",
   "version": "3.9.0"
  },
  "vscode": {
   "interpreter": {
    "hash": "25301cabe4c6f833fd20f15b1b22933971919908771eb627a83fe325b4fb6671"
   }
  }
 },
 "nbformat": 4,
 "nbformat_minor": 2
}
